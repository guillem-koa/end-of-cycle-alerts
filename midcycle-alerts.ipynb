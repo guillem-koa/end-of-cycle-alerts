{
 "cells": [
  {
   "cell_type": "code",
   "execution_count": 2,
   "metadata": {},
   "outputs": [],
   "source": [
    "#### 1. Read DB\n",
    "import mysql.connector\n",
    "\n",
    "# Replace with your MySQL connection details\n",
    "host =  '10.8.0.1'\n",
    "username = 'pere'\n",
    "password = 'Nemomola5'\n",
    "database_name =  'KOAMachines'\n",
    "\n",
    "# Create a connection to the MySQL server\n",
    "db_connection = mysql.connector.connect(\n",
    "    host=host,\n",
    "    user=username,\n",
    "    password=password,\n",
    "    database=database_name\n",
    ")\n",
    "\n",
    "# Create a cursor to execute SQL commands\n",
    "mycursor = db_connection.cursor()\n",
    "\n",
    "# Now you can execute SQL queries\n",
    "mycursor.execute(\"SELECT * FROM mid_cycle where EMAIL_SENT = 0\")\n",
    "\n",
    "# Fetch the results\n",
    "result = mycursor.fetchall()\n",
    "\n",
    "# Close the connection when done\n",
    "db_connection.close()"
   ]
  },
  {
   "cell_type": "code",
   "execution_count": 6,
   "metadata": {},
   "outputs": [],
   "source": [
    "#### 2. & 3. Send alerts and log\n",
    "# For now, let's hardcode the relationship between id_maquina and email list\n",
    "id_maquina_info = {681: ('AA-202312-994', ['guillem.cobos@koabiotech.com']),\n",
    "                   1181: ('AA-000000-000', ['guillem.cobos@koabiotech.com']), \n",
    "                   489: ('AA-202311-992', ['guillem.cobos@koabiotech.com']),\n",
    "                   506: ('AA-202310-001', ['guillem.cobos@koabiotech.com']),\n",
    "                   599: ('AA-202312-002', ['guillem.cobos@koabiotech.com', 'sira.mogas@koabiotech.com']),\n",
    "                   592: ('AA-202312-003', ['guillem.cobos@koabiotech.com', 'sira.mogas@koabiotech.com']),\n",
    "                   1752: ('AA-202312-004', ['guillem.cobos@koabiotech.com', 'sira.mogas@koabiotech.com']),\n",
    "                   1775: ('AA-202312-005', ['guillem.cobos@koabiotech.com', 'sira.mogas@koabiotech.com']),\n",
    "                   2877: ('AA-202312-006', ['guillem.cobos@koabiotech.com', 'sira.mogas@koabiotech.com'])\n",
    "                   }\n",
    "\n",
    "from utils import sendMidcycleEmail \n",
    "import logging\n",
    "\n",
    "# Configure logging\n",
    "#logging.basicConfig(filename='/home/debian/midcycle-alerts/database_log.log', level=logging.INFO, format='%(asctime)s - %(levelname)s - %(message)s')\n",
    "\n",
    "# Send end of cycle email alerts, and log it!\n",
    "for row in result:\n",
    "    id_maquina, timestamp = row[0], row[1]\n",
    "    sendMidcycleEmail(email_receivers=id_maquina_info[id_maquina][1],\n",
    "              serial_num=id_maquina_info[id_maquina][0],\n",
    "              timestamp=timestamp)\n",
    "    \n",
    "    log_message = f\"Maquina {id_maquina} alcanzó 30h dentro de un ciclo en {timestamp}. Mail enviado a {id_maquina_info[id_maquina][1]}\"\n",
    "    logging.info(log_message)"
   ]
  },
  {
   "cell_type": "code",
   "execution_count": null,
   "metadata": {},
   "outputs": [],
   "source": [
    "\n",
    "#### 4. Update *EMAIL_SENT* in the table *end_of_cycle* on MariaDB\n",
    "    # Create a connection to the MySQL server\n",
    "db_connection = mysql.connector.connect(\n",
    "    host=host,\n",
    "    user=username,\n",
    "    password=password,\n",
    "    database=database_name\n",
    ")\n",
    "\n",
    "# Create a cursor to execute SQL commands\n",
    "mycursor = db_connection.cursor()\n",
    "\n",
    "# Now you can execute SQL queries\n",
    "mycursor.execute(\"UPDATE mid_cycle SET EMAIL_SENT = 1\")\n",
    "\n",
    "# Commit transaction\n",
    "db_connection.commit()\n",
    "\n",
    "# Close the connection when done\n",
    "db_connection.close()"
   ]
  }
 ],
 "metadata": {
  "kernelspec": {
   "display_name": "myenv",
   "language": "python",
   "name": "python3"
  },
  "language_info": {
   "codemirror_mode": {
    "name": "ipython",
    "version": 3
   },
   "file_extension": ".py",
   "mimetype": "text/x-python",
   "name": "python",
   "nbconvert_exporter": "python",
   "pygments_lexer": "ipython3",
   "version": "3.10.12"
  }
 },
 "nbformat": 4,
 "nbformat_minor": 2
}
