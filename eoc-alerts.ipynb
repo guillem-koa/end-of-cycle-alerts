{
 "cells": [
  {
   "cell_type": "markdown",
   "metadata": {},
   "source": [
    "## Script structure\n",
    "1. Read the table *end_of_cycle* on MariaDB\n",
    "2. Send notification email for each of the entries\n",
    "3. Log the information\n",
    "4. Update *EMAIL_SENT* in the table *end_of_cycle* on MariaDB"
   ]
  },
  {
   "cell_type": "markdown",
   "metadata": {},
   "source": [
    "### 1. Read table *end_of_cycle*"
   ]
  },
  {
   "cell_type": "code",
   "execution_count": 27,
   "metadata": {},
   "outputs": [],
   "source": [
    "import mysql.connector\n",
    "import json\n",
    "\n",
    "# Replace with your MySQL connection details\n",
    "host =  '10.8.0.1'\n",
    "username = 'pere'\n",
    "password = 'Nemomola5'\n",
    "database_name =  'KOAMachines'\n",
    "\n",
    "# Create a connection to the MySQL server\n",
    "db_connection = mysql.connector.connect(\n",
    "    host=host,\n",
    "    user=username,\n",
    "    password=password,\n",
    "    database=database_name\n",
    ")\n",
    "\n",
    "# Create a cursor to execute SQL commands\n",
    "mycursor = db_connection.cursor()\n",
    "\n",
    "# Now you can execute SQL queries\n",
    "mycursor.execute(\"SELECT * FROM end_of_cycle where EMAIL_SENT = 0\")\n",
    "\n",
    "# Fetch the results\n",
    "result = mycursor.fetchall()\n",
    "\n",
    "# Close the connection when done\n",
    "db_connection.close()\n"
   ]
  },
  {
   "cell_type": "code",
   "execution_count": 28,
   "metadata": {},
   "outputs": [
    {
     "data": {
      "text/html": [
       "<div>\n",
       "<style scoped>\n",
       "    .dataframe tbody tr th:only-of-type {\n",
       "        vertical-align: middle;\n",
       "    }\n",
       "\n",
       "    .dataframe tbody tr th {\n",
       "        vertical-align: top;\n",
       "    }\n",
       "\n",
       "    .dataframe thead th {\n",
       "        text-align: right;\n",
       "    }\n",
       "</style>\n",
       "<table border=\"1\" class=\"dataframe\">\n",
       "  <thead>\n",
       "    <tr style=\"text-align: right;\">\n",
       "      <th></th>\n",
       "      <th>id_maquina</th>\n",
       "      <th>TIME_STAMP</th>\n",
       "      <th>EV_IDLE</th>\n",
       "      <th>id</th>\n",
       "      <th>EMAIL_SENT</th>\n",
       "    </tr>\n",
       "  </thead>\n",
       "  <tbody>\n",
       "    <tr>\n",
       "      <th>0</th>\n",
       "      <td>681</td>\n",
       "      <td>2024-02-09 00:02:52</td>\n",
       "      <td>True</td>\n",
       "      <td>3</td>\n",
       "      <td>0</td>\n",
       "    </tr>\n",
       "  </tbody>\n",
       "</table>\n",
       "</div>"
      ],
      "text/plain": [
       "   id_maquina           TIME_STAMP EV_IDLE  id  EMAIL_SENT\n",
       "0         681  2024-02-09 00:02:52    True   3           0"
      ]
     },
     "execution_count": 28,
     "metadata": {},
     "output_type": "execute_result"
    }
   ],
   "source": [
    "import pandas as pd\n",
    "df = pd.DataFrame(result, columns = [\"id_maquina\", \"TIME_STAMP\", \"EV_IDLE\", \"id\", \"EMAIL_SENT\"])\n",
    "df"
   ]
  },
  {
   "cell_type": "markdown",
   "metadata": {},
   "source": [
    "### 2 & 3. Send emails & log it"
   ]
  },
  {
   "cell_type": "code",
   "execution_count": 24,
   "metadata": {},
   "outputs": [],
   "source": [
    "# For now, let's hardcode the relationship between id_maquina and email list\n",
    "\n",
    "id_maquina_info = {681: ('AA-202312-994', ['guillem.cobos@koabiotech.com']),\n",
    "                   1181: ('AA-000000-000', ['guillem.cobos@koabiotech.com']), \n",
    "                   489: ('AA-202311-992', ['guillem.cobos@koabiotech.com']),\n",
    "                   506: ('AA-202310-001', ['guillem.cobos@koabiotech.com']),\n",
    "                   592: ('AA-202312-003', ['guillem.cobos@koabiotech.com']),\n",
    "                   599: ('AA-202312-002', ['guillem.cobos@koabiotech.com'])\n",
    "                   }\n"
   ]
  },
  {
   "cell_type": "code",
   "execution_count": 25,
   "metadata": {},
   "outputs": [],
   "source": [
    "from utils import sendEmail \n",
    "import logging\n",
    "\n",
    "# Configure logging\n",
    "logging.basicConfig(filename='database_log.log', level=logging.INFO,\n",
    "                    format='%(asctime)s - %(levelname)s - %(message)s')\n",
    "\n",
    "# Send end of cycle email alerts, and log it!\n",
    "for row in result:\n",
    "    id_maquina, timestamp = row[0], row[1]\n",
    "    sendEmail(email_receivers=id_maquina_info[id_maquina][1],\n",
    "              serial_num=id_maquina_info[id_maquina][0],\n",
    "              timestamp=timestamp)\n",
    "    \n",
    "    log_message = f\"Maquina {id_maquina} acabó un ciclo en {timestamp}. Mail enviado a {id_maquina_info[id_maquina][1]}\"\n",
    "    logging.info(log_message)\n"
   ]
  },
  {
   "cell_type": "markdown",
   "metadata": {},
   "source": [
    "### 4. Update *EMAIL_SENT* in the table *end_of_cycle* on MariaDB"
   ]
  },
  {
   "cell_type": "code",
   "execution_count": 26,
   "metadata": {},
   "outputs": [],
   "source": [
    "# Create a connection to the MySQL server\n",
    "db_connection = mysql.connector.connect(\n",
    "    host=host,\n",
    "    user=username,\n",
    "    password=password,\n",
    "    database=database_name\n",
    ")\n",
    "\n",
    "# Create a cursor to execute SQL commands\n",
    "mycursor = db_connection.cursor()\n",
    "\n",
    "# Now you can execute SQL queries\n",
    "mycursor.execute(\"UPDATE end_of_cycle SET EMAIL_SENT = 1\")\n",
    "\n",
    "# Commit transaction\n",
    "db_connection.commit()\n",
    "\n",
    "# Close the connection when done\n",
    "db_connection.close()"
   ]
  },
  {
   "cell_type": "code",
   "execution_count": null,
   "metadata": {},
   "outputs": [],
   "source": []
  }
 ],
 "metadata": {
  "kernelspec": {
   "display_name": "myenv",
   "language": "python",
   "name": "python3"
  },
  "language_info": {
   "codemirror_mode": {
    "name": "ipython",
    "version": 3
   },
   "file_extension": ".py",
   "mimetype": "text/x-python",
   "name": "python",
   "nbconvert_exporter": "python",
   "pygments_lexer": "ipython3",
   "version": "3.10.12"
  }
 },
 "nbformat": 4,
 "nbformat_minor": 2
}
