{
 "cells": [
  {
   "cell_type": "code",
   "execution_count": 21,
   "metadata": {},
   "outputs": [],
   "source": [
    "import mysql.connector\n",
    "import json\n",
    "\n",
    "# Replace with your MySQL connection details\n",
    "host =  '10.8.0.1'\n",
    "username = 'pere'\n",
    "password = 'Nemomola5'\n",
    "database_name =  'KOAMachines'\n",
    "\n",
    "# Create a connection to the MySQL server\n",
    "db_connection = mysql.connector.connect(\n",
    "    host=host,\n",
    "    user=username,\n",
    "    password=password,\n",
    "    database=database_name\n",
    ")\n",
    "\n",
    "# Create a cursor to execute SQL commands\n",
    "mycursor = db_connection.cursor()\n",
    "\n",
    "# Now you can execute SQL queries\n",
    "mycursor.execute(\"SELECT id_maquina, TIME_STAMP, EV_IDLE, CICLE_A_MITGES, TEMPS_PER_ACABAR FROM estat ORDER BY `estat`.`TIME_STAMP` DESC\")\n",
    "\n",
    "# Fetch the results\n",
    "result = mycursor.fetchall()\n",
    "\n",
    "# Close the connection when done\n",
    "db_connection.close()\n"
   ]
  },
  {
   "cell_type": "code",
   "execution_count": 22,
   "metadata": {},
   "outputs": [],
   "source": [
    "import pandas as pd\n",
    "import matplotlib.pyplot as plt"
   ]
  },
  {
   "cell_type": "code",
   "execution_count": 106,
   "metadata": {},
   "outputs": [],
   "source": [
    "df = pd.DataFrame(result, \n",
    "                  columns = [\"id_maquina\", \"TIME_STAMP\", \"EV_IDLE\", \"CICLE_A_MITGES\", \"TEMPS_PER_ACABAR\"])\n",
    "df = df.head(10000).iloc[::-1]"
   ]
  },
  {
   "cell_type": "code",
   "execution_count": 122,
   "metadata": {},
   "outputs": [
    {
     "data": {
      "text/plain": [
       "(array([681, 599, 592]), '2024-02-03 10:01:21', '2024-02-07 20:11:07')"
      ]
     },
     "execution_count": 122,
     "metadata": {},
     "output_type": "execute_result"
    }
   ],
   "source": [
    "# These ids: 599, 681, 592\n",
    "df[\"id_maquina\"].unique(), df[\"TIME_STAMP\"].min(), df[\"TIME_STAMP\"].max()"
   ]
  },
  {
   "cell_type": "code",
   "execution_count": 131,
   "metadata": {},
   "outputs": [
    {
     "data": {
      "text/plain": [
       "([<matplotlib.axis.YTick at 0x294cf6590>,\n",
       "  <matplotlib.axis.YTick at 0x294cf45b0>],\n",
       " [Text(0, 0, 'False'), Text(0, 1, 'True')])"
      ]
     },
     "execution_count": 131,
     "metadata": {},
     "output_type": "execute_result"
    },
    {
     "data": {
      "image/png": "[encoded data removed]",
      "text/plain": [
       "<Figure size 640x480 with 1 Axes>"
      ]
     },
     "metadata": {},
     "output_type": "display_data"
    }
   ],
   "source": [
    "df_machine_filtered = df[df[\"id_maquina\"]==592]\n",
    "\n",
    "y_numeric = [0 if value == 'False' else 1 for value in df_machine_filtered[\"EV_IDLE\"].to_list()]\n",
    "\n",
    "plt.plot(df_machine_filtered[\"TIME_STAMP\"], y_numeric)\n",
    "plt.xticks(df_machine_filtered[\"TIME_STAMP\"][::300], rotation=90)\n",
    "plt.yticks([0, 1], ['False', 'True'])\n"
   ]
  },
  {
   "cell_type": "code",
   "execution_count": 132,
   "metadata": {},
   "outputs": [
    {
     "data": {
      "text/html": [
       "<div>\n",
       "<style scoped>\n",
       "    .dataframe tbody tr th:only-of-type {\n",
       "        vertical-align: middle;\n",
       "    }\n",
       "\n",
       "    .dataframe tbody tr th {\n",
       "        vertical-align: top;\n",
       "    }\n",
       "\n",
       "    .dataframe thead th {\n",
       "        text-align: right;\n",
       "    }\n",
       "</style>\n",
       "<table border=\"1\" class=\"dataframe\">\n",
       "  <thead>\n",
       "    <tr style=\"text-align: right;\">\n",
       "      <th></th>\n",
       "      <th>id_maquina</th>\n",
       "      <th>TIME_STAMP</th>\n",
       "      <th>EV_IDLE</th>\n",
       "      <th>CICLE_A_MITGES</th>\n",
       "      <th>TEMPS_PER_ACABAR</th>\n",
       "    </tr>\n",
       "  </thead>\n",
       "  <tbody>\n",
       "    <tr>\n",
       "      <th>1104</th>\n",
       "      <td>592</td>\n",
       "      <td>2024-02-07 18:42:56</td>\n",
       "      <td>True</td>\n",
       "      <td>False</td>\n",
       "      <td>0</td>\n",
       "    </tr>\n",
       "  </tbody>\n",
       "</table>\n",
       "</div>"
      ],
      "text/plain": [
       "      id_maquina           TIME_STAMP EV_IDLE CICLE_A_MITGES TEMPS_PER_ACABAR\n",
       "1104         592  2024-02-07 18:42:56    True          False                0"
      ]
     },
     "execution_count": 132,
     "metadata": {},
     "output_type": "execute_result"
    }
   ],
   "source": [
    "data = df_machine_filtered[\"EV_IDLE\"].to_list()\n",
    "indices = []\n",
    "prev = 'False'  # Assume the first element is 'False'\n",
    "\n",
    "for i, val in enumerate(data):\n",
    "    if val == 'True' and prev == 'False':\n",
    "        indices.append(i)\n",
    "    prev = val\n",
    "\n",
    "df_machine_filtered.iloc[indices]"
   ]
  },
  {
   "cell_type": "code",
   "execution_count": null,
   "metadata": {},
   "outputs": [],
   "source": []
  }
 ],
 "metadata": {
  "kernelspec": {
   "display_name": "myenv",
   "language": "python",
   "name": "python3"
  },
  "language_info": {
   "codemirror_mode": {
    "name": "ipython",
    "version": 3
   },
   "file_extension": ".py",
   "mimetype": "text/x-python",
   "name": "python",
   "nbconvert_exporter": "python",
   "pygments_lexer": "ipython3",
   "version": "3.10.12"
  }
 },
 "nbformat": 4,
 "nbformat_minor": 2
}
